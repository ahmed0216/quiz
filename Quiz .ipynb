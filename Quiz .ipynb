{
 "cells": [
  {
   "cell_type": "markdown",
   "id": "603da3dd-dd2a-4d67-8e1b-4b1873034bc2",
   "metadata": {},
   "source": [
    "# Variable"
   ]
  },
  {
   "cell_type": "markdown",
   "id": "a36c6e23-e6b9-40e7-8b82-0d5f53764e92",
   "metadata": {},
   "source": [
    "### Create a variable named carname and assign the value Volvo to it."
   ]
  },
  {
   "cell_type": "code",
   "execution_count": 1,
   "id": "c2b5e6f9-f3ad-4a62-99f9-405583f1a4e5",
   "metadata": {},
   "outputs": [],
   "source": [
    "carname = \"Volvo\""
   ]
  },
  {
   "cell_type": "code",
   "execution_count": 2,
   "id": "b8d29377-5a18-40e5-95f3-2cf0dec9353b",
   "metadata": {},
   "outputs": [
    {
     "name": "stdout",
     "output_type": "stream",
     "text": [
      "Volvo\n"
     ]
    }
   ],
   "source": [
    "print(carname)"
   ]
  },
  {
   "cell_type": "markdown",
   "id": "0c813171-7f74-478a-bdc7-def82a3fcf45",
   "metadata": {},
   "source": [
    "### Create a variable named x and assign the value 50 to it."
   ]
  },
  {
   "cell_type": "code",
   "execution_count": 3,
   "id": "35f9ffb9-f10f-4404-90e9-9116ea5e9822",
   "metadata": {},
   "outputs": [],
   "source": [
    "x=50"
   ]
  },
  {
   "cell_type": "markdown",
   "id": "5e34e456-21db-4524-8507-201dd7f394c5",
   "metadata": {},
   "source": [
    "### Display the sum of 5 + 10, using two variables: x and y."
   ]
  },
  {
   "cell_type": "code",
   "execution_count": 6,
   "id": "546a7268-c296-43b4-8a1b-5d0d3c0e1ae6",
   "metadata": {},
   "outputs": [
    {
     "name": "stdout",
     "output_type": "stream",
     "text": [
      "15\n"
     ]
    }
   ],
   "source": [
    "x=5\n",
    "y=10\n",
    "sum=x+y\n",
    "print(sum)"
   ]
  },
  {
   "cell_type": "markdown",
   "id": "faf5e015-4bf7-44b1-b9fc-cfa7e7b313b6",
   "metadata": {},
   "source": [
    "### Create a variable called z, assign x + y to it, and display the result."
   ]
  },
  {
   "cell_type": "code",
   "execution_count": 7,
   "id": "0a48f27f-c7e8-440a-a3a8-c352d68d83d0",
   "metadata": {},
   "outputs": [
    {
     "name": "stdout",
     "output_type": "stream",
     "text": [
      "15\n"
     ]
    }
   ],
   "source": [
    "z=x+y\n",
    "print(z)"
   ]
  },
  {
   "cell_type": "markdown",
   "id": "46b20367-d6dd-43bd-812d-081707c8d77c",
   "metadata": {},
   "source": [
    "### Remove the illegal characters in the variable name:"
   ]
  },
  {
   "cell_type": "code",
   "execution_count": 12,
   "id": "9aae4c3d-42ee-474f-b35c-1e6c6ea7006f",
   "metadata": {},
   "outputs": [],
   "source": [
    "# Original variable name with illegal characters\n",
    "# my-variable_name! = \"Hello, World!\"\n",
    "\n",
    "# Modified variable name with illegal characters removed\n",
    "my_variable_name = \"Hello, World!\"\n"
   ]
  },
  {
   "cell_type": "markdown",
   "id": "0fbfc855-3a35-4353-827e-25acb9ef775c",
   "metadata": {},
   "source": [
    "### Insert the correct syntax to assign the same value to all three variables in one code line."
   ]
  },
  {
   "cell_type": "code",
   "execution_count": 9,
   "id": "a94bd700-aa8a-404d-8c86-2ba62f2a2033",
   "metadata": {},
   "outputs": [],
   "source": [
    "x = y = z = 10"
   ]
  },
  {
   "cell_type": "markdown",
   "id": "a4429e16-318a-4356-97ef-1f82e024851a",
   "metadata": {},
   "source": [
    "### The following code example would print the data type of x, what data type would that be?"
   ]
  },
  {
   "cell_type": "code",
   "execution_count": 10,
   "id": "b65e4619-e2ba-4038-84ea-d55368fe2005",
   "metadata": {},
   "outputs": [
    {
     "name": "stdout",
     "output_type": "stream",
     "text": [
      "<class 'int'>\n"
     ]
    }
   ],
   "source": [
    "x=5\n",
    "print(type(x))"
   ]
  },
  {
   "cell_type": "markdown",
   "id": "c1834315-cbda-4bcf-99ba-ff6d47c4ac4f",
   "metadata": {},
   "source": [
    "### Insert the correct syntax to convert x into a floating point number."
   ]
  },
  {
   "cell_type": "code",
   "execution_count": 13,
   "id": "40691bb2-39ac-4de2-8697-2d355ad1a1b9",
   "metadata": {},
   "outputs": [
    {
     "data": {
      "text/plain": [
       "6.0"
      ]
     },
     "execution_count": 13,
     "metadata": {},
     "output_type": "execute_result"
    }
   ],
   "source": [
    "x=6\n",
    "float(x)"
   ]
  },
  {
   "cell_type": "markdown",
   "id": "0d35abfa-0948-4cb5-b085-745732237631",
   "metadata": {},
   "source": [
    "### Insert the correct syntax to convert x into a integer."
   ]
  },
  {
   "cell_type": "code",
   "execution_count": 14,
   "id": "8fc84b3a-9852-4568-8d60-31e8b37538fa",
   "metadata": {},
   "outputs": [
    {
     "data": {
      "text/plain": [
       "6"
      ]
     },
     "execution_count": 14,
     "metadata": {},
     "output_type": "execute_result"
    }
   ],
   "source": [
    "int(x)"
   ]
  },
  {
   "cell_type": "markdown",
   "id": "a10a945f-9aaa-4e48-8d06-47b325ff904b",
   "metadata": {},
   "source": [
    "### Use the len method to print the length of the string."
   ]
  },
  {
   "cell_type": "code",
   "execution_count": 17,
   "id": "c4b29a77-e245-4de7-93f5-68897d5ff8d1",
   "metadata": {},
   "outputs": [
    {
     "data": {
      "text/plain": [
       "5"
      ]
     },
     "execution_count": 17,
     "metadata": {},
     "output_type": "execute_result"
    }
   ],
   "source": [
    "str=\"ahmed\"\n",
    "len(str)\n"
   ]
  },
  {
   "cell_type": "markdown",
   "id": "55b0a95a-c81a-49cf-a1e2-d5a88d03e2ab",
   "metadata": {},
   "source": [
    "### Get the first character of the string txt."
   ]
  },
  {
   "cell_type": "code",
   "execution_count": 19,
   "id": "c6cd4c33-644b-4662-8f06-1b4fca0ce3de",
   "metadata": {},
   "outputs": [
    {
     "data": {
      "text/plain": [
       "'o'"
      ]
     },
     "execution_count": 19,
     "metadata": {},
     "output_type": "execute_result"
    }
   ],
   "source": [
    "txt=\"one\"\n",
    "txt[0]"
   ]
  },
  {
   "cell_type": "markdown",
   "id": "0f36ccd8-dccd-40e4-8276-e7208e1d6a4c",
   "metadata": {},
   "source": [
    "### Get the characters from index 2 to index 4 (llo)."
   ]
  },
  {
   "cell_type": "code",
   "execution_count": 22,
   "id": "9abf6175-3b7d-4ec5-854e-6f9c83a38fcb",
   "metadata": {},
   "outputs": [
    {
     "data": {
      "text/plain": [
       "'med'"
      ]
     },
     "execution_count": 22,
     "metadata": {},
     "output_type": "execute_result"
    }
   ],
   "source": [
    "str=\"ahmed\"\n",
    "str[2:5] ## end-1 "
   ]
  },
  {
   "cell_type": "markdown",
   "id": "54ab0d95-a3df-42d0-9e63-95eb19e649b9",
   "metadata": {},
   "source": [
    "### Return the string without any whitespace at the beginning or the end."
   ]
  },
  {
   "cell_type": "code",
   "execution_count": 23,
   "id": "35bf2729-b6ac-4636-ab4f-48d950ae2dd8",
   "metadata": {},
   "outputs": [
    {
     "data": {
      "text/plain": [
       "'ahmed'"
      ]
     },
     "execution_count": 23,
     "metadata": {},
     "output_type": "execute_result"
    }
   ],
   "source": [
    "str1=\"    ahmed    \"\n",
    "str1.strip()"
   ]
  },
  {
   "cell_type": "markdown",
   "id": "c64c52fa-9918-41b3-803d-48cc1dbbe03d",
   "metadata": {},
   "source": [
    "### Convert the value of txt to upper case."
   ]
  },
  {
   "cell_type": "code",
   "execution_count": 24,
   "id": "68843f69-fe5e-45ac-bce7-b354e8c7e2d5",
   "metadata": {},
   "outputs": [
    {
     "data": {
      "text/plain": [
       "'ONE'"
      ]
     },
     "execution_count": 24,
     "metadata": {},
     "output_type": "execute_result"
    }
   ],
   "source": [
    "txt.upper()"
   ]
  },
  {
   "cell_type": "markdown",
   "id": "9ef9b9ed-b207-4a09-8a5b-afb160cd10f6",
   "metadata": {},
   "source": [
    "### Convert the value of txt to lower case."
   ]
  },
  {
   "cell_type": "code",
   "execution_count": 26,
   "id": "51e0a2d4-089e-4314-97a8-9e0f807a0d78",
   "metadata": {},
   "outputs": [
    {
     "data": {
      "text/plain": [
       "'one'"
      ]
     },
     "execution_count": 26,
     "metadata": {},
     "output_type": "execute_result"
    }
   ],
   "source": [
    "txt.lower()"
   ]
  },
  {
   "cell_type": "markdown",
   "id": "e14e92ab-d6fb-4d94-bd77-eb024ed26196",
   "metadata": {},
   "source": [
    "### Replace the character H with a J."
   ]
  },
  {
   "cell_type": "code",
   "execution_count": 28,
   "id": "82ac6564-d90f-49da-9adf-91e00e733555",
   "metadata": {},
   "outputs": [
    {
     "data": {
      "text/plain": [
       "'ajmed'"
      ]
     },
     "execution_count": 28,
     "metadata": {},
     "output_type": "execute_result"
    }
   ],
   "source": [
    "str=\"ahmed\"\n",
    "str.replace(\"h\",\"j\")"
   ]
  },
  {
   "cell_type": "markdown",
   "id": "71220cc9-9b56-4b86-a15f-88c65e5ac2fd",
   "metadata": {},
   "source": [
    "### Using format function to print the age "
   ]
  },
  {
   "cell_type": "code",
   "execution_count": 29,
   "id": "2abb0da9-4bad-4d57-88da-ce0ea4aa7acc",
   "metadata": {},
   "outputs": [
    {
     "name": "stdout",
     "output_type": "stream",
     "text": [
      "my age is 22 years old \n"
     ]
    }
   ],
   "source": [
    "age=22\n",
    "print(\"my age is {} years old \".format(age))"
   ]
  },
  {
   "cell_type": "markdown",
   "id": "c64b96dc-00df-4f95-8c8f-fe0051347e17",
   "metadata": {},
   "source": [
    "### The statement below would print a Boolean value, which one?"
   ]
  },
  {
   "cell_type": "code",
   "execution_count": 31,
   "id": "9753dbe4-84df-4579-b687-2a0edd82969c",
   "metadata": {},
   "outputs": [
    {
     "data": {
      "text/plain": [
       "True"
      ]
     },
     "execution_count": 31,
     "metadata": {},
     "output_type": "execute_result"
    }
   ],
   "source": [
    "1>0"
   ]
  },
  {
   "cell_type": "code",
   "execution_count": 32,
   "id": "d917b03f-6b40-429f-9436-cf140ca568fc",
   "metadata": {},
   "outputs": [
    {
     "data": {
      "text/plain": [
       "False"
      ]
     },
     "execution_count": 32,
     "metadata": {},
     "output_type": "execute_result"
    }
   ],
   "source": [
    "1<0"
   ]
  },
  {
   "cell_type": "code",
   "execution_count": 35,
   "id": "1013cb86-5b06-4e01-9cd5-1903d1dd0e64",
   "metadata": {},
   "outputs": [
    {
     "data": {
      "text/plain": [
       "False"
      ]
     },
     "execution_count": 35,
     "metadata": {},
     "output_type": "execute_result"
    }
   ],
   "source": [
    "1<2<0"
   ]
  },
  {
   "cell_type": "markdown",
   "id": "9a0e5dd4-7167-4aee-a77d-b3f275ffb134",
   "metadata": {},
   "source": [
    "### Multiply 10 with 5, and print the result."
   ]
  },
  {
   "cell_type": "code",
   "execution_count": 36,
   "id": "05bc7bc3-96bf-4d85-b2c7-66f0cdb9cd25",
   "metadata": {},
   "outputs": [
    {
     "name": "stdout",
     "output_type": "stream",
     "text": [
      "50\n"
     ]
    }
   ],
   "source": [
    "print(10*5)"
   ]
  },
  {
   "cell_type": "markdown",
   "id": "54ae41e5-d151-4033-928f-bb567415d9b2",
   "metadata": {},
   "source": [
    "### Divide 10 by 2, and print the result."
   ]
  },
  {
   "cell_type": "code",
   "execution_count": 37,
   "id": "c3020453-0761-4c3b-86a3-bb250356673b",
   "metadata": {},
   "outputs": [
    {
     "name": "stdout",
     "output_type": "stream",
     "text": [
      "5.0\n"
     ]
    }
   ],
   "source": [
    "print(10/2)"
   ]
  },
  {
   "cell_type": "markdown",
   "id": "81e7a18b-1990-4ac7-9ba0-79a28ac20543",
   "metadata": {},
   "source": [
    "### Create a list and check if the value in this list or not"
   ]
  },
  {
   "cell_type": "code",
   "execution_count": 42,
   "id": "0bbc9660-d314-4591-a8d3-20338919dd7c",
   "metadata": {},
   "outputs": [
    {
     "name": "stdout",
     "output_type": "stream",
     "text": [
      "True\n"
     ]
    }
   ],
   "source": [
    "list1=[1,2,3,4,5,6,\"ahmed\"]\n",
    "if 4 or 10 in list1 :\n",
    "    print(True)\n",
    "else:\n",
    "    print(False)"
   ]
  },
  {
   "cell_type": "markdown",
   "id": "e8dc98e8-e66c-48aa-b2c5-8a637904ba9e",
   "metadata": {},
   "source": [
    "### Use the correct comparison operator to check if 5 is not equal to 10."
   ]
  },
  {
   "cell_type": "code",
   "execution_count": 43,
   "id": "4f4d0e14-39e9-42c6-9964-c5b91bf49df1",
   "metadata": {},
   "outputs": [
    {
     "name": "stdout",
     "output_type": "stream",
     "text": [
      "not equal\n"
     ]
    }
   ],
   "source": [
    "if 5 == 10 :\n",
    "    print(\"equal\")\n",
    "else :\n",
    "    print(\"not equal\")"
   ]
  },
  {
   "cell_type": "markdown",
   "id": "f2fb4f7a-7f61-485e-b248-448b0e8c6f0d",
   "metadata": {},
   "source": [
    "### Use the correct logical operator to check if at least one of two statements is True."
   ]
  },
  {
   "cell_type": "code",
   "execution_count": 44,
   "id": "105e3670-46a9-4ede-86bb-cefe0300f875",
   "metadata": {},
   "outputs": [
    {
     "name": "stdout",
     "output_type": "stream",
     "text": [
      "True\n"
     ]
    }
   ],
   "source": [
    "list1=[1,2,3,4,5,6,\"ahmed\"]\n",
    "if 4 or 10 in list1 :\n",
    "    print(True)\n",
    "else:\n",
    "    print(False)"
   ]
  },
  {
   "cell_type": "markdown",
   "id": "6ee582b6-70ae-46c9-ac54-b7d12c2f820f",
   "metadata": {},
   "source": [
    "### Print the second item in the fruits list."
   ]
  },
  {
   "cell_type": "code",
   "execution_count": 23,
   "id": "e3b73f12-b857-43c8-8256-fd008046b5a0",
   "metadata": {},
   "outputs": [
    {
     "name": "stdout",
     "output_type": "stream",
     "text": [
      "banana\n"
     ]
    }
   ],
   "source": [
    "fruits = [\"apple\", \"banana\", \"cherry\", \"date\", \"elderberry\"]\n",
    "print(fruits[1])"
   ]
  },
  {
   "cell_type": "markdown",
   "id": "d566c724-f8f8-4101-95ab-1b41b3162304",
   "metadata": {},
   "source": [
    "### Change the value from \"apple\" to \"kiwi\", in the fruits list."
   ]
  },
  {
   "cell_type": "code",
   "execution_count": 24,
   "id": "fde13c53-997c-478b-82ec-7ecacdcee827",
   "metadata": {},
   "outputs": [
    {
     "name": "stdout",
     "output_type": "stream",
     "text": [
      "['kiwi', 'banana', 'cherry', 'date', 'elderberry']\n"
     ]
    }
   ],
   "source": [
    "fruits[0]=\"kiwi\"\n",
    "print(fruits)"
   ]
  },
  {
   "cell_type": "markdown",
   "id": "4ea29bd8-2335-4ff9-9509-15668f2e3b5b",
   "metadata": {},
   "source": [
    "###  Use the append method to add \"orange\" to the fruits list."
   ]
  },
  {
   "cell_type": "code",
   "execution_count": 25,
   "id": "57758855-5cd6-4d2d-985a-79ea4d7b2b63",
   "metadata": {},
   "outputs": [
    {
     "name": "stdout",
     "output_type": "stream",
     "text": [
      "['kiwi', 'banana', 'cherry', 'date', 'elderberry', 'orange']\n"
     ]
    }
   ],
   "source": [
    "fruits.append(\"orange\")\n",
    "print(fruits)"
   ]
  },
  {
   "cell_type": "markdown",
   "id": "97e2b228-758d-4576-9f84-46d89a8a5c58",
   "metadata": {},
   "source": [
    "### Use the insert method to add \"lemon\" as the second item in the fruits list."
   ]
  },
  {
   "cell_type": "code",
   "execution_count": 27,
   "id": "aa2360c4",
   "metadata": {},
   "outputs": [
    {
     "name": "stdout",
     "output_type": "stream",
     "text": [
      "['kiwi', 'lemon', 'banana', 'cherry', 'date', 'elderberry', 'orange']\n"
     ]
    }
   ],
   "source": [
    "fruits.insert(1,\"lemon\")\n",
    "print(fruits)"
   ]
  },
  {
   "cell_type": "markdown",
   "id": "601d194b-bcec-4c4a-8b36-2e2c27f9135d",
   "metadata": {},
   "source": [
    "### Use the remove method to remove \"banana\" from the fruits list."
   ]
  },
  {
   "cell_type": "code",
   "execution_count": 36,
   "id": "6786e433",
   "metadata": {},
   "outputs": [
    {
     "name": "stdout",
     "output_type": "stream",
     "text": [
      "['kiwi', 'lemon', 'cherry', 'date', 'elderberry', 'orange']\n"
     ]
    }
   ],
   "source": [
    "fruits.remove(\"banana\")\n",
    "print(fruits)"
   ]
  },
  {
   "cell_type": "markdown",
   "id": "d57a4c60-05bc-4a45-a493-0ed04e4c6ae6",
   "metadata": {},
   "source": [
    "### Use negative indexing to print the last item in the list."
   ]
  },
  {
   "cell_type": "code",
   "execution_count": 38,
   "id": "7713fb23-d310-4f02-a9cc-f2933fcbfc14",
   "metadata": {},
   "outputs": [
    {
     "data": {
      "text/plain": [
       "'orange'"
      ]
     },
     "execution_count": 38,
     "metadata": {},
     "output_type": "execute_result"
    }
   ],
   "source": [
    "fruits[-1]"
   ]
  },
  {
   "cell_type": "markdown",
   "id": "bad4f0bb-2689-4230-a116-8c935f4b798e",
   "metadata": {},
   "source": [
    "### Use a range of indexes to print the third, fourth, and fifth item in the list."
   ]
  },
  {
   "cell_type": "code",
   "execution_count": 45,
   "id": "3f40c9bd-7569-4aae-adfb-4148473db1e4",
   "metadata": {},
   "outputs": [
    {
     "data": {
      "text/plain": [
       "['cherry', 'date', 'elderberry']"
      ]
     },
     "execution_count": 45,
     "metadata": {},
     "output_type": "execute_result"
    }
   ],
   "source": [
    "fruits[2:5] ##fruits[2:5:1]"
   ]
  },
  {
   "cell_type": "markdown",
   "id": "7e193da4-23d8-4103-9cdb-7fd2ea86aef8",
   "metadata": {},
   "source": [
    "### Use the correct syntax to print the number of items in the list."
   ]
  },
  {
   "cell_type": "code",
   "execution_count": 46,
   "id": "1be2a046-0849-4798-86b0-309cedc6ade4",
   "metadata": {},
   "outputs": [
    {
     "data": {
      "text/plain": [
       "6"
      ]
     },
     "execution_count": 46,
     "metadata": {},
     "output_type": "execute_result"
    }
   ],
   "source": [
    "len(fruits)"
   ]
  },
  {
   "cell_type": "markdown",
   "id": "8bd7ea28-5c20-436f-8c22-94e65739aa11",
   "metadata": {},
   "source": [
    "### Use the correct syntax to print the first item in the fruits tuple."
   ]
  },
  {
   "cell_type": "code",
   "execution_count": 49,
   "id": "fab63d19-ff5f-4b07-b1c9-39a69a213a67",
   "metadata": {},
   "outputs": [
    {
     "data": {
      "text/plain": [
       "('kiwi', 'lemon', 'cherry', 'date', 'elderberry', 'orange')"
      ]
     },
     "execution_count": 49,
     "metadata": {},
     "output_type": "execute_result"
    }
   ],
   "source": [
    "tuple(fruits)"
   ]
  },
  {
   "cell_type": "code",
   "execution_count": 50,
   "id": "e3b26189-22a8-4227-b87e-d20f9033de32",
   "metadata": {},
   "outputs": [
    {
     "data": {
      "text/plain": [
       "'kiwi'"
      ]
     },
     "execution_count": 50,
     "metadata": {},
     "output_type": "execute_result"
    }
   ],
   "source": [
    "fruits[0]"
   ]
  },
  {
   "cell_type": "markdown",
   "id": "7c9e1d67-6823-4db8-b832-9f7752a23965",
   "metadata": {},
   "source": [
    "### Use the correct syntax to print the number of items in the fruits tuple."
   ]
  },
  {
   "cell_type": "code",
   "execution_count": 51,
   "id": "83d5bc80-3231-49e1-8500-e8baae241fc0",
   "metadata": {},
   "outputs": [
    {
     "data": {
      "text/plain": [
       "6"
      ]
     },
     "execution_count": 51,
     "metadata": {},
     "output_type": "execute_result"
    }
   ],
   "source": [
    "len(fruits)"
   ]
  },
  {
   "cell_type": "markdown",
   "id": "a9762942-ac9f-4026-834e-a6108253cf00",
   "metadata": {},
   "source": [
    "### Use the add method to add \"orange\" to the fruits set."
   ]
  },
  {
   "cell_type": "code",
   "execution_count": 63,
   "id": "698e14a2-cf20-4cdc-8eac-2e974de599c7",
   "metadata": {},
   "outputs": [
    {
     "data": {
      "text/plain": [
       "{'cherry', 'date', 'elderberry', 'kiwi', 'lemon', 'orange'}"
      ]
     },
     "execution_count": 63,
     "metadata": {},
     "output_type": "execute_result"
    }
   ],
   "source": [
    "set(fruits)"
   ]
  },
  {
   "cell_type": "code",
   "execution_count": 60,
   "id": "05882b88-98c5-4015-b9f4-294bc25ac6f0",
   "metadata": {},
   "outputs": [
    {
     "name": "stdout",
     "output_type": "stream",
     "text": [
      "['kiwi', 'lemon', 'cherry', 'date', 'elderberry', 'orange', 'orange', 'orange', 'orange']\n"
     ]
    }
   ],
   "source": [
    "fruits.append(\"orange\")\n",
    "print(fruits)"
   ]
  },
  {
   "cell_type": "markdown",
   "id": "ca1f7a4d-f1da-4a3f-92c1-1c8be39e1843",
   "metadata": {},
   "source": [
    "### Use the correct method to add multiple items (more_fruits) to the fruits set."
   ]
  },
  {
   "cell_type": "code",
   "execution_count": 75,
   "id": "2440b65a-b686-49a3-843b-c9cc0471fabe",
   "metadata": {},
   "outputs": [
    {
     "name": "stdout",
     "output_type": "stream",
     "text": [
      "{'date', 'fig', 'elderberry', 'apple', 'banana', 'cherry'}\n"
     ]
    }
   ],
   "source": [
    "\n",
    "fruits = {\"apple\", \"banana\", \"cherry\"}\n",
    "more_fruits = [\"date\", \"elderberry\", \"fig\"]\n",
    "\n",
    "fruits.update(more_fruits)\n",
    "print(fruits)"
   ]
  },
  {
   "cell_type": "markdown",
   "id": "57f18a2d-dc25-46b2-b59c-70ba30c2a863",
   "metadata": {},
   "source": [
    "### Use the remove method to remove \"banana\" from the fruits set."
   ]
  },
  {
   "cell_type": "code",
   "execution_count": 80,
   "id": "14ca857c-9854-4cf4-9663-056ef842cf21",
   "metadata": {},
   "outputs": [
    {
     "name": "stdout",
     "output_type": "stream",
     "text": [
      "{'apple', 'cherry'}\n"
     ]
    }
   ],
   "source": [
    "fruits = {\"apple\", \"banana\", \"cherry\"}\n",
    "fruits.remove(\"banana\")\n",
    "print(fruits)"
   ]
  },
  {
   "cell_type": "markdown",
   "id": "215915fa-5ce8-43a2-9c8e-69031d5bb1a5",
   "metadata": {},
   "source": [
    "### Use the get method to print the value of the \"model\" key of the car dictionary."
   ]
  },
  {
   "cell_type": "code",
   "execution_count": 98,
   "id": "151fe2ae-6cca-4424-8452-a8025d3f8bbe",
   "metadata": {},
   "outputs": [
    {
     "name": "stdout",
     "output_type": "stream",
     "text": [
      "Mustang\n"
     ]
    }
   ],
   "source": [
    "car = {\"brand\": \"Ford\", \"model\": \"Mustang\", \"year\": 1964}\n",
    "model_value = car.get(\"model\")\n",
    "print(model_value)"
   ]
  },
  {
   "cell_type": "markdown",
   "id": "c62ef6ee-c55c-47b5-8917-42dfccb63916",
   "metadata": {},
   "source": [
    "### Change the \"year\" value from 1964 to 2020."
   ]
  },
  {
   "cell_type": "code",
   "execution_count": 99,
   "id": "c55cc487-efb8-4593-8a8d-75812c734438",
   "metadata": {},
   "outputs": [
    {
     "name": "stdout",
     "output_type": "stream",
     "text": [
      "{'brand': 'Ford', 'model': 'Mustang', 'year': 2020}\n"
     ]
    }
   ],
   "source": [
    "car[\"year\"]=2020\n",
    "print(car)"
   ]
  },
  {
   "cell_type": "markdown",
   "id": "256826b2-e415-4046-a675-dd6c93c71820",
   "metadata": {},
   "source": [
    "### Add the key/value pair \"color\" : \"red\" to the car dictionary."
   ]
  },
  {
   "cell_type": "code",
   "execution_count": 100,
   "id": "5c5ef545-3a3b-4ec3-8a18-b6a7b88c7bf3",
   "metadata": {},
   "outputs": [
    {
     "name": "stdout",
     "output_type": "stream",
     "text": [
      "{'brand': 'Ford', 'model': 'Mustang', 'year': 2020, 'color': 'red'}\n"
     ]
    }
   ],
   "source": [
    "car[\"color\"]=\"red\"\n",
    "print(car)"
   ]
  },
  {
   "cell_type": "markdown",
   "id": "9b1812b0-d717-47cf-a36b-742ef987ffe4",
   "metadata": {},
   "source": [
    "### Use the pop method to remove \"model\" from the car dictionary."
   ]
  },
  {
   "cell_type": "code",
   "execution_count": 101,
   "id": "0f09fff9-7925-41b6-ba66-1364a3c244d2",
   "metadata": {},
   "outputs": [
    {
     "name": "stdout",
     "output_type": "stream",
     "text": [
      "{'brand': 'Ford', 'year': 2020, 'color': 'red'}\n"
     ]
    }
   ],
   "source": [
    "car.pop(\"model\")\n",
    "print(car)"
   ]
  },
  {
   "cell_type": "markdown",
   "id": "aa97bedb-407d-4e9a-90b2-9ec5b83e56b9",
   "metadata": {},
   "source": [
    "### Use the clear method to empty the car dictionary."
   ]
  },
  {
   "cell_type": "code",
   "execution_count": 103,
   "id": "7eea2c88-8896-4292-9901-4280be58b47e",
   "metadata": {},
   "outputs": [
    {
     "name": "stdout",
     "output_type": "stream",
     "text": [
      "{}\n"
     ]
    }
   ],
   "source": [
    "car.clear()\n",
    "print(car)"
   ]
  },
  {
   "cell_type": "markdown",
   "id": "2c109c72-f1f3-4707-ae51-a0431de35b6c",
   "metadata": {},
   "source": [
    "### Print \"1\" if a is equal to b, print \"2\" if a is greater than b, otherwise print \"3\"."
   ]
  },
  {
   "cell_type": "code",
   "execution_count": 104,
   "id": "ec612bd1-3f3e-47da-bd95-463444462451",
   "metadata": {},
   "outputs": [
    {
     "name": "stdout",
     "output_type": "stream",
     "text": [
      "3\n"
     ]
    }
   ],
   "source": [
    "a=5\n",
    "b=6\n",
    "if a==b:\n",
    "    print(1)\n",
    "elif a>b:\n",
    "    print(2)\n",
    "else:\n",
    "    print(3)"
   ]
  },
  {
   "cell_type": "markdown",
   "id": "d09e2baf-aef1-4b76-95fb-662b17c34916",
   "metadata": {},
   "source": [
    "### This example misses indentations to be correct.\n",
    "\n",
    "Insert the missing indentation to make the code correct:"
   ]
  },
  {
   "cell_type": "code",
   "execution_count": null,
   "id": "74a4b43b-ab5a-4ff3-812b-9c45777105bf",
   "metadata": {},
   "outputs": [],
   "source": []
  },
  {
   "cell_type": "markdown",
   "id": "054de106-f548-49d5-8acd-1bdf22f21745",
   "metadata": {},
   "source": [
    "### Use the correct short hand syntax to write the following conditional expression in one line:"
   ]
  },
  {
   "cell_type": "code",
   "execution_count": 113,
   "id": "7688d212-947e-4bef-a4cc-f497876e8d52",
   "metadata": {},
   "outputs": [
    {
     "name": "stdout",
     "output_type": "stream",
     "text": [
      "x is greater than 5\n"
     ]
    }
   ],
   "source": [
    "x = 10\n",
    "result = \"x is greater than 5\" if x > 5 else \"x is not greater than 5\"\n",
    "print(result)"
   ]
  },
  {
   "cell_type": "markdown",
   "id": "d050a1bb-fb46-4563-8304-20815f2bbe39",
   "metadata": {},
   "source": [
    "### Print i as long as i is less than 6."
   ]
  },
  {
   "cell_type": "code",
   "execution_count": 105,
   "id": "6c6fa651-644c-42c9-9f79-0276c08d779e",
   "metadata": {},
   "outputs": [
    {
     "name": "stdout",
     "output_type": "stream",
     "text": [
      "0\n",
      "1\n",
      "2\n",
      "3\n",
      "4\n",
      "5\n",
      "6\n"
     ]
    }
   ],
   "source": [
    "for i in range(7):\n",
    "    print(i)"
   ]
  },
  {
   "cell_type": "markdown",
   "id": "3179e656-27a0-4091-ba20-4e00cb599ee5",
   "metadata": {},
   "source": [
    "### Stop the loop if i is 3."
   ]
  },
  {
   "cell_type": "code",
   "execution_count": 107,
   "id": "e40e62a4-a735-41ed-8f88-4ceca9aecd6d",
   "metadata": {},
   "outputs": [
    {
     "name": "stdout",
     "output_type": "stream",
     "text": [
      "0\n",
      "1\n",
      "2\n",
      "3\n"
     ]
    }
   ],
   "source": [
    "for i in range(5):\n",
    "    print(i)\n",
    "    if i == 3:\n",
    "        break"
   ]
  },
  {
   "cell_type": "markdown",
   "id": "f17c6930-5de2-4c3f-85f8-1b50ff015113",
   "metadata": {},
   "source": [
    "### In the loop, when i is 3, jump directly to the next iteration."
   ]
  },
  {
   "cell_type": "code",
   "execution_count": 108,
   "id": "b7936308-802b-493b-aad4-f6fdfb0f0c00",
   "metadata": {},
   "outputs": [
    {
     "name": "stdout",
     "output_type": "stream",
     "text": [
      "0\n",
      "1\n",
      "2\n",
      "3\n",
      "4\n"
     ]
    }
   ],
   "source": [
    "for i in range(5):\n",
    "    print(i)\n",
    "    if i == 3:\n",
    "        continue"
   ]
  },
  {
   "cell_type": "markdown",
   "id": "c84bc758-2768-4afc-b32f-653259f4184e",
   "metadata": {},
   "source": [
    "### Print a message once the condition is false."
   ]
  },
  {
   "cell_type": "code",
   "execution_count": 109,
   "id": "8aa1c3e1-2fb0-4933-b6c3-295eaafb2f46",
   "metadata": {},
   "outputs": [
    {
     "name": "stdout",
     "output_type": "stream",
     "text": [
      "x is not greater than 10. This condition is false.\n"
     ]
    }
   ],
   "source": [
    "x = 5\n",
    "if x > 10:\n",
    "    print(\"x is greater than 10\")\n",
    "else:\n",
    "    print(\"x is not greater than 10. This condition is false.\")"
   ]
  },
  {
   "cell_type": "markdown",
   "id": "c46270d6-095a-4a35-9383-4eb09d9065b7",
   "metadata": {},
   "source": [
    "### In the loop, when the item value is \"banana\", jump directly to the next item."
   ]
  },
  {
   "cell_type": "code",
   "execution_count": 110,
   "id": "e8b275f9-8f0a-4e06-9990-716dc25afcd7",
   "metadata": {},
   "outputs": [
    {
     "name": "stdout",
     "output_type": "stream",
     "text": [
      "apple\n",
      "mango\n"
     ]
    }
   ],
   "source": [
    "list2=[\"apple\",\"banana\",\"mango\"]\n",
    "for i in list2:\n",
    "    if i == \"banana\":\n",
    "        continue\n",
    "    print(i)"
   ]
  },
  {
   "cell_type": "markdown",
   "id": "8a8a86f1-e6a8-44ae-9350-3151f861ab21",
   "metadata": {},
   "source": [
    "### Use the range function to loop through a code set 6 times."
   ]
  },
  {
   "cell_type": "code",
   "execution_count": 111,
   "id": "458cf00a-ef0e-4577-9182-010f07635dd1",
   "metadata": {},
   "outputs": [
    {
     "name": "stdout",
     "output_type": "stream",
     "text": [
      "This is loop iteration 1\n",
      "This is loop iteration 2\n",
      "This is loop iteration 3\n",
      "This is loop iteration 4\n",
      "This is loop iteration 5\n",
      "This is loop iteration 6\n"
     ]
    }
   ],
   "source": [
    "for i in range(6):\n",
    "    print(\"This is loop iteration\", i+1)"
   ]
  },
  {
   "cell_type": "markdown",
   "id": "0225aa9a-9f5d-4c68-80ce-2db42ee8e6c1",
   "metadata": {},
   "source": [
    "### Exit the loop when x is \"banana\"."
   ]
  },
  {
   "cell_type": "code",
   "execution_count": 112,
   "id": "4b0e8e1d-c4fd-41a6-9805-2571fd6ff0f9",
   "metadata": {},
   "outputs": [
    {
     "name": "stdout",
     "output_type": "stream",
     "text": [
      "apple\n"
     ]
    }
   ],
   "source": [
    "list2=[\"apple\",\"banana\",\"mango\"]\n",
    "for i in list2:\n",
    "    if i == \"banana\":\n",
    "        break\n",
    "    print(i)"
   ]
  },
  {
   "cell_type": "markdown",
   "id": "4aaa9554-31d5-4f68-bb49-6ce1a512bc64",
   "metadata": {},
   "source": [
    "### Create a function named my_function."
   ]
  },
  {
   "cell_type": "code",
   "execution_count": 117,
   "id": "e0c67545-091b-4074-acbb-1ac93d30518c",
   "metadata": {},
   "outputs": [],
   "source": [
    "def my_function():\n",
    "    print(\"this is my function\")"
   ]
  },
  {
   "cell_type": "markdown",
   "id": "4a2af30a-ea48-4eed-977c-d1c7b3008d57",
   "metadata": {},
   "source": [
    "### Execute a function named my_function."
   ]
  },
  {
   "cell_type": "code",
   "execution_count": 118,
   "id": "4e075e0b-07fc-4e23-bcca-4f7bca22caf8",
   "metadata": {},
   "outputs": [
    {
     "name": "stdout",
     "output_type": "stream",
     "text": [
      "this is my function\n"
     ]
    }
   ],
   "source": [
    "my_function()"
   ]
  },
  {
   "cell_type": "markdown",
   "id": "6769bea8-8695-4dfa-aa46-cb93315f96c8",
   "metadata": {},
   "source": [
    "### Inside a function with two parameters, print the first parameter."
   ]
  },
  {
   "cell_type": "code",
   "execution_count": 121,
   "id": "39fdfdfa-8880-485b-947b-9d46731df998",
   "metadata": {},
   "outputs": [],
   "source": [
    "def my_function(num1,num2):\n",
    "    print(num2)"
   ]
  },
  {
   "cell_type": "code",
   "execution_count": 122,
   "id": "58d2662e",
   "metadata": {},
   "outputs": [
    {
     "name": "stdout",
     "output_type": "stream",
     "text": [
      "2\n"
     ]
    }
   ],
   "source": [
    "my_function(1,2)"
   ]
  },
  {
   "cell_type": "markdown",
   "id": "c8b211d7-90c5-4bdc-8563-7d6943f1f2bd",
   "metadata": {},
   "source": [
    "### Let the function return the x parameter + 5."
   ]
  },
  {
   "cell_type": "code",
   "execution_count": 123,
   "id": "d0418bc7-5a7f-4b3a-8f7d-09a2a75b4cd9",
   "metadata": {},
   "outputs": [],
   "source": [
    "def my_function(x):\n",
    "    return x+5"
   ]
  },
  {
   "cell_type": "code",
   "execution_count": 124,
   "id": "2879c991",
   "metadata": {},
   "outputs": [
    {
     "data": {
      "text/plain": [
       "10"
      ]
     },
     "execution_count": 124,
     "metadata": {},
     "output_type": "execute_result"
    }
   ],
   "source": [
    "my_function(5)"
   ]
  },
  {
   "cell_type": "markdown",
   "id": "70b78432-36dc-42a9-9bda-757d5ac5ad3d",
   "metadata": {},
   "source": [
    "### If you do not know the number of arguments that will be passed into your function, there is a prefix you can add in the function definition, which prefix?"
   ]
  },
  {
   "cell_type": "code",
   "execution_count": 125,
   "id": "4bdee11e-4fbf-455a-b34c-dc26d437be13",
   "metadata": {},
   "outputs": [
    {
     "name": "stdout",
     "output_type": "stream",
     "text": [
      "1\n",
      "2\n",
      "3\n",
      "4\n"
     ]
    }
   ],
   "source": [
    "def my_function(*args):\n",
    "    for arg in args:\n",
    "        print(arg)\n",
    "\n",
    "my_function(1, 2, 3, 4)"
   ]
  },
  {
   "cell_type": "code",
   "execution_count": 126,
   "id": "7b51dce7",
   "metadata": {},
   "outputs": [
    {
     "name": "stdout",
     "output_type": "stream",
     "text": [
      "name Ahmed\n",
      "age 22\n",
      "city Benha\n"
     ]
    }
   ],
   "source": [
    "def my_function(**kwargs):\n",
    "    for key, value in kwargs.items():\n",
    "        print(key, value)\n",
    "\n",
    "my_function(name='Ahmed', age=22, city='Benha')"
   ]
  },
  {
   "cell_type": "markdown",
   "id": "c9e76f27-aecd-4b55-b45e-bad1e14ed321",
   "metadata": {},
   "source": [
    "### Create a lambda function that takes one parameter (a) and returns it."
   ]
  },
  {
   "cell_type": "code",
   "execution_count": 142,
   "id": "9e123c1e",
   "metadata": {},
   "outputs": [
    {
     "name": "stdout",
     "output_type": "stream",
     "text": [
      "5\n"
     ]
    }
   ],
   "source": [
    "x = lambda a : a \n",
    "print(x(5))"
   ]
  },
  {
   "cell_type": "markdown",
   "id": "99ec0a9b-226b-440e-a4a3-ca096c11f261",
   "metadata": {},
   "source": [
    "### Implement a function to find all prime numbers up to a given number n. Assume n is a positive integer."
   ]
  },
  {
   "cell_type": "code",
   "execution_count": 146,
   "id": "125a4b46-0132-4b78-9a3e-deb5ace46b51",
   "metadata": {},
   "outputs": [],
   "source": [
    "def is_prime(n):\n",
    "  for i in range(2,n):\n",
    "    if (n%i) == 0:\n",
    "      return False\n",
    "  return True"
   ]
  },
  {
   "cell_type": "code",
   "execution_count": 152,
   "id": "f62b2ff5",
   "metadata": {},
   "outputs": [
    {
     "data": {
      "text/plain": [
       "True"
      ]
     },
     "execution_count": 152,
     "metadata": {},
     "output_type": "execute_result"
    }
   ],
   "source": [
    "is_prime(3)"
   ]
  },
  {
   "cell_type": "code",
   "execution_count": 153,
   "id": "a0c48607",
   "metadata": {},
   "outputs": [
    {
     "data": {
      "text/plain": [
       "False"
      ]
     },
     "execution_count": 153,
     "metadata": {},
     "output_type": "execute_result"
    }
   ],
   "source": [
    "is_prime(4)"
   ]
  },
  {
   "cell_type": "markdown",
   "id": "bb48fac7-98ce-4b88-9167-0da6a08a2f93",
   "metadata": {},
   "source": [
    "###  Implement a generator function to generate the Fibonacci sequence up to a given n terms."
   ]
  },
  {
   "cell_type": "code",
   "execution_count": 174,
   "id": "9e745b23-86f3-4502-afa7-fd878c47be14",
   "metadata": {},
   "outputs": [],
   "source": [
    "def fibonacci(n):\n",
    "    a,b=0,1\n",
    "    count=0\n",
    "    while count<n:\n",
    "        yield a\n",
    "        a=b\n",
    "        b=a+b\n",
    "        count+=1\n"
   ]
  },
  {
   "cell_type": "code",
   "execution_count": 175,
   "id": "22c0fd64",
   "metadata": {},
   "outputs": [
    {
     "name": "stdout",
     "output_type": "stream",
     "text": [
      "0\n",
      "1\n",
      "2\n",
      "4\n",
      "8\n",
      "16\n",
      "32\n",
      "64\n",
      "128\n",
      "256\n"
     ]
    }
   ],
   "source": [
    "n = 10  \n",
    "fib_seq = fibonacci(n)\n",
    "\n",
    "for num in fib_seq:\n",
    "    print(num)"
   ]
  },
  {
   "cell_type": "markdown",
   "id": "4139a12a-c3b8-4d36-bff1-524dec8edf6f",
   "metadata": {},
   "source": [
    "### Write a function to compute the power of a number x raised to the power n using recursion."
   ]
  },
  {
   "cell_type": "code",
   "execution_count": 176,
   "id": "c89dae52-1974-4d18-9eef-ad1b96051dfb",
   "metadata": {},
   "outputs": [],
   "source": [
    "def power(x,n):\n",
    "    print(x**n)"
   ]
  },
  {
   "cell_type": "code",
   "execution_count": 177,
   "id": "50f10d5a-5d17-421a-b6b6-e40d59c00e7f",
   "metadata": {},
   "outputs": [
    {
     "name": "stdout",
     "output_type": "stream",
     "text": [
      "8\n"
     ]
    }
   ],
   "source": [
    "power(2,3)"
   ]
  }
 ],
 "metadata": {
  "kernelspec": {
   "display_name": "Python 3 (ipykernel)",
   "language": "python",
   "name": "python3"
  },
  "language_info": {
   "codemirror_mode": {
    "name": "ipython",
    "version": 3
   },
   "file_extension": ".py",
   "mimetype": "text/x-python",
   "name": "python",
   "nbconvert_exporter": "python",
   "pygments_lexer": "ipython3",
   "version": "3.11.4"
  }
 },
 "nbformat": 4,
 "nbformat_minor": 5
}
